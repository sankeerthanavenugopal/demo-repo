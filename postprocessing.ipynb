{
 "cells": [
  {
   "cell_type": "code",
   "execution_count": 1,
   "metadata": {},
   "outputs": [],
   "source": [
    "# extract mat file \n",
    "from scipy.io import loadmat\n",
    "import numpy as np"
   ]
  },
  {
   "cell_type": "code",
   "execution_count": 4,
   "metadata": {},
   "outputs": [],
   "source": [
    "mat_train_GER = loadmat('GER_train.mat')\n",
    "mat_test_GER= loadmat('GER_test.mat')\n",
    "mat_train_ITA = loadmat('ITA_train.mat')\n",
    "mat_test_ITA = loadmat('ITA_test.mat')"
   ]
  },
  {
   "cell_type": "code",
   "execution_count": 6,
   "metadata": {},
   "outputs": [],
   "source": [
    "train_data_GER = mat_train_GER[\"GER_train\"]\n",
    "test_data_GER = mat_test_GER[\"GER_test\"]\n",
    "\n",
    "train_data_GER = np.transpose(train_data_GER)\n",
    "test_data_GER = np.transpose(test_data_GER)\n",
    "\n",
    "train_data_ITA = mat_train_ITA[\"ITA_train\"]\n",
    "test_data_ITA = mat_test_ITA[\"ITA_test\"]\n",
    "\n",
    "train_data_ITA = np.transpose(train_data_ITA)\n",
    "test_data_ITA = np.transpose(test_data_ITA)"
   ]
  },
  {
   "cell_type": "code",
   "execution_count": 22,
   "metadata": {},
   "outputs": [
    {
     "data": {
      "text/plain": [
       "(6981, 21)"
      ]
     },
     "execution_count": 22,
     "metadata": {},
     "output_type": "execute_result"
    }
   ],
   "source": [
    "train_data_GER.shape"
   ]
  },
  {
   "cell_type": "code",
   "execution_count": 18,
   "metadata": {},
   "outputs": [],
   "source": [
    "# take first 4886 of the data from GER and 100% of the data from ITA and combine them together to form the training data\n",
    "train_data = np.concatenate((train_data_GER[0:4886,:],train_data_ITA),axis=0)\n",
    "# take test data from GER and ITA and combine them together to form the test data\n",
    "test_data = np.concatenate((test_data_GER,test_data_ITA),axis=0)\n"
   ]
  },
  {
   "cell_type": "code",
   "execution_count": 24,
   "metadata": {},
   "outputs": [
    {
     "data": {
      "text/plain": [
       "(2095, 21)"
      ]
     },
     "execution_count": 24,
     "metadata": {},
     "output_type": "execute_result"
    }
   ],
   "source": [
    "# use rest of the files from GER_train for fine tuning\n",
    "train_data_fine_tune = train_data_GER[4886:,:]\n",
    "\n",
    "train_data_fine_tune.shape"
   ]
  },
  {
   "cell_type": "code",
   "execution_count": 26,
   "metadata": {},
   "outputs": [
    {
     "data": {
      "text/plain": [
       "6981"
      ]
     },
     "execution_count": 26,
     "metadata": {},
     "output_type": "execute_result"
    }
   ],
   "source": [
    "len(train_data_fine_tune) + len(train_data_GER[0:4886,:])"
   ]
  },
  {
   "cell_type": "code",
   "execution_count": 8,
   "metadata": {},
   "outputs": [
    {
     "data": {
      "text/plain": [
       "4886.7"
      ]
     },
     "execution_count": 8,
     "metadata": {},
     "output_type": "execute_result"
    }
   ],
   "source": [
    "len(train_data_GER)*0.7"
   ]
  },
  {
   "cell_type": "code",
   "execution_count": 20,
   "metadata": {},
   "outputs": [
    {
     "data": {
      "text/plain": [
       "11150"
      ]
     },
     "execution_count": 20,
     "metadata": {},
     "output_type": "execute_result"
    }
   ],
   "source": [
    "len(test_data_ITA) + len(test_data_GER)"
   ]
  },
  {
   "cell_type": "code",
   "execution_count": 13,
   "metadata": {},
   "outputs": [
    {
     "data": {
      "text/plain": [
       "(9788, 21)"
      ]
     },
     "execution_count": 13,
     "metadata": {},
     "output_type": "execute_result"
    }
   ],
   "source": [
    "test_data.shape"
   ]
  },
  {
   "cell_type": "code",
   "execution_count": null,
   "metadata": {},
   "outputs": [],
   "source": [
    " # find the layer in a model\n",
    "for i in range(len(model.layers)):\n",
    "    print(i, model.layers[i])\n",
    "\n",
    "    "
   ]
  },
  {
   "cell_type": "code",
   "execution_count": null,
   "metadata": {},
   "outputs": [],
   "source": [
    "# freeze the first 3 layers of the base model to prevent them from being trained and add 2 new layers on top of it\n",
    "\n",
    "for layer in model.layers[:3]:\n",
    "    layer.trainable = False\n",
    "\n",
    "# add a dense layer with 256 neurons and relu activation and the final layer with 1 neuron and sigmoid activation\n",
    "model.add(layers.Dense(256, activation='relu'))\n",
    "model.add(layers.Dense(1, activation='sigmoid'))\n",
    "\n",
    "# compile the model\n",
    "model.compile(optimizer=optimizers.RMSprop(lr=2e-5),\n",
    "              \n",
    "                loss='binary_crossentropy', \n",
    "                metrics=['acc'])\n",
    "\n",
    "# train the model\n",
    "history = model.fit(train_data_fine_tune, train_labels_GER[4886:], epochs=30, batch_size=20, validation_data=(test_data, test_labels))\n",
    "\n",
    "# save the model\n",
    "model.save('model_fine_tuned.h5')\n",
    "\n"
   ]
  },
  {
   "cell_type": "code",
   "execution_count": null,
   "metadata": {},
   "outputs": [],
   "source": [
    "#build a model and output the training and validation accuracy and loss and test accuracy and loss\n",
    "model = models.Sequential()\n",
    "model.add(layers.Dense(256, activation='relu', input_shape=(train_data.shape[1],)))\n",
    "model.add(layers.Dense(1, activation='sigmoid'))\n",
    "model.compile(optimizer=optimizers.RMSprop(lr=2e-5),\n",
    "\n",
    "                loss='binary_crossentropy',\n",
    "                metrics=['acc'])\n",
    "\n",
    "history = model.fit(train_data, train_labels, epochs=30, batch_size=20, validation_data=(test_data, test_labels))\n",
    "\n",
    "score = model.evaluate(test_data, test_labels)\n",
    "print(score)\n",
    "\n",
    "model.summary()\n"
   ]
  }
 ],
 "metadata": {
  "kernelspec": {
   "display_name": "Python 3",
   "language": "python",
   "name": "python3"
  },
  "language_info": {
   "codemirror_mode": {
    "name": "ipython",
    "version": 3
   },
   "file_extension": ".py",
   "mimetype": "text/x-python",
   "name": "python",
   "nbconvert_exporter": "python",
   "pygments_lexer": "ipython3",
   "version": "3.10.11"
  },
  "orig_nbformat": 4
 },
 "nbformat": 4,
 "nbformat_minor": 2
}
